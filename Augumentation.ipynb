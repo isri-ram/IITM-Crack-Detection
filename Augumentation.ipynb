{
 "cells": [
  {
   "cell_type": "code",
   "execution_count": 4,
   "metadata": {},
   "outputs": [],
   "source": [
    "from keras.preprocessing.image import ImageDataGenerator\n",
    "from skimage import io\n",
    "datagen = ImageDataGenerator(\n",
    "        interpolation_order=3,        \n",
    "        rotation_range = 3,\n",
    "        vertical_flip=True,\n",
    "        horizontal_flip = True,\n",
    "        brightness_range = (0.5, 1.5))\n",
    "import numpy as np\n",
    "import os\n",
    "from PIL import Image\n",
    "image_directory = r'/Volumes/Project/Competition/IIT Madras/archive/test/Negative/'\n",
    "SIZE = 224\n",
    "dataset = []\n",
    "my_images = os.listdir(image_directory)\n",
    "for i, image_name in enumerate(my_images):    \n",
    "    if (image_name.split('.')[1] == 'jpg'):        \n",
    "        image = io.imread(image_directory + image_name)        \n",
    "        image = Image.fromarray(image, 'RGB')        \n",
    "        image = image.resize((SIZE,SIZE)) \n",
    "        dataset.append(np.array(image))\n",
    "x = np.array(dataset)\n",
    "i = 0\n",
    "for batch in datagen.flow(x, batch_size=16,\n",
    "                          save_to_dir= r'/Volumes/Project/Competition/IIT Madras/dataset 2/Negative',\n",
    "                          save_prefix='dr',\n",
    "                          save_format='jpg'):   \n",
    "    i += 1    \n",
    "    if i > 500:        \n",
    "        break"
   ]
  }
 ],
 "metadata": {
  "kernelspec": {
   "display_name": "myenv",
   "language": "python",
   "name": "python3"
  },
  "language_info": {
   "codemirror_mode": {
    "name": "ipython",
    "version": 3
   },
   "file_extension": ".py",
   "mimetype": "text/x-python",
   "name": "python",
   "nbconvert_exporter": "python",
   "pygments_lexer": "ipython3",
   "version": "3.9.15"
  },
  "orig_nbformat": 4,
  "vscode": {
   "interpreter": {
    "hash": "b2d415adef5bab6d8473e56b8401b7828bd793ae8a13b27d6139017698c5c551"
   }
  }
 },
 "nbformat": 4,
 "nbformat_minor": 2
}
